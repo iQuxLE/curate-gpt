{
 "cells": [
  {
   "cell_type": "markdown",
   "source": [
    "## How to use orthoglogy recap"
   ],
   "metadata": {
    "collapsed": false
   },
   "id": "11e672e411e63c6c"
  },
  {
   "cell_type": "code",
   "execution_count": 17,
   "outputs": [],
   "source": [
    "import os\n",
    "cwd = os.getcwd()\n",
    "db_path = os.path.join(os.path.dirname(os.path.dirname(os.path.dirname(os.path.dirname(cwd)))), 'stagedb')\n",
    "os.environ['DATA_URL'] = 'https://data.monarchinitiative.org/monarch-kg/2024-02-13/monarch-kg.tar.gz'\n",
    "os.environ['HUMAN_GENE_LIST'] = f'{cwd}/wrappers/knowledgegraph/human_hgnc.txt'\n",
    "os.environ['MOUSE_GENE_LIST'] = f'{cwd}/wrappers/knowledgegraph/mouse_mgi.txt'\n",
    "\n",
    "os.environ['DB_PATH'] = db_path\n",
    "\n",
    "os.environ['QUICK_ORTH'] = f'{cwd}/wrappers/knowledgegraph/quick_orth_gene_pairs.txt'\n",
    "os.environ['QUICK_NON_ORTH'] = f'{cwd}/wrappers/knowledgegraph/quick_non_orth_gene_pairs.txt'\n",
    "os.environ['QUICK_ORTH_OUT'] = f'{cwd}/wrappers/knowledgegraph/quick_orth_cosim'\n",
    "os.environ['QUICK_NON_ORTH_OUT'] = f'{cwd}/wrappers/knowledgegraph/quick_non_orth_cosim'\n",
    "\n",
    "\n",
    "os.environ['ORTH_OUT'] = f'{cwd}/wrappers/knowledgegraph/orth_cosim'\n",
    "os.environ['NON_ORTH_OUT'] = f'{cwd}/wrappers/knowledgegraph/non_orth_cosim'"
   ],
   "metadata": {
    "collapsed": false,
    "ExecuteTime": {
     "end_time": "2024-05-02T16:15:19.327176Z",
     "start_time": "2024-05-02T16:15:19.320948Z"
    }
   },
   "id": "6d3a22532ca88423"
  },
  {
   "cell_type": "markdown",
   "source": [
    "#### Check ChromaDB content. \n",
    "You need \"ont_hp\" and \"ont_mp\" collection!!!!"
   ],
   "metadata": {
    "collapsed": false
   },
   "id": "505b28b035d7b887"
  },
  {
   "cell_type": "code",
   "execution_count": null,
   "outputs": [],
   "source": [
    "# index ont_hp\n",
    "!curategpt ontology index --index-fields label, definition, relationships -p stagedb -c ont_hp -m openai: sqlite:obo:hp"
   ],
   "metadata": {
    "collapsed": false
   },
   "id": "6ceef6f1ce58c0e8"
  },
  {
   "cell_type": "code",
   "execution_count": null,
   "outputs": [],
   "source": [
    "# index ont_mp\n",
    "!curategpt ontology index --index-fields label, definition, relationships -p stagedb -c ont_mp -m openai: sqlite:obo:mp"
   ],
   "metadata": {
    "collapsed": false
   },
   "id": "3e10cb5c6021e110"
  },
  {
   "cell_type": "code",
   "execution_count": null,
   "outputs": [],
   "source": [
    "# Check Collections\n",
    "from curate_gpt import ChromaDBAdapter\n",
    "\n",
    "db = ChromaDBAdapter(db_path)\n",
    "db.list_collection_names()"
   ],
   "metadata": {
    "collapsed": false
   },
   "id": "3a08f0120fc4545e"
  },
  {
   "cell_type": "markdown",
   "source": [
    "### Workflow"
   ],
   "metadata": {
    "collapsed": false
   },
   "id": "16b218f78efac0db"
  },
  {
   "cell_type": "markdown",
   "source": [
    "For a List of genes to upsert:"
   ],
   "metadata": {
    "collapsed": false
   },
   "id": "7bba2aaaaa77d2a9"
  },
  {
   "cell_type": "code",
   "execution_count": null,
   "outputs": [],
   "source": [
    "!curategpt ontology make_gene_embeddings -u $DATA_URL --path $DB_PATH --collection ont_hp -g HGNC: -p HP: -f $HUMAN_GENE_LIST -s gene_by_gene -e human_gene_list_collection"
   ],
   "metadata": {
    "collapsed": false
   },
   "id": "beb82f81231660cf"
  },
  {
   "cell_type": "markdown",
   "source": [
    "For all genes from an entity to be upserted:"
   ],
   "metadata": {
    "collapsed": false
   },
   "id": "5e650986da460590"
  },
  {
   "cell_type": "code",
   "execution_count": null,
   "outputs": [],
   "source": [
    "# MOUSE\n",
    "!curategpt ontology make_gene_embeddings -u $DATA_URL --path $DB_PATH --collection ont_mp -g MGI: -p MP: -s all -e global_mgi\n"
   ],
   "metadata": {
    "collapsed": false
   },
   "id": "40554cc455a8c10a"
  },
  {
   "cell_type": "code",
   "execution_count": null,
   "outputs": [],
   "source": [
    "# HUMAN\n",
    "!curategpt ontology make_gene_embeddings -u $DATA_URL --path $DB_PATH --collection ont_mp -g HGNC: -p HP: -s all -e global_hgnc\n"
   ],
   "metadata": {
    "collapsed": false
   },
   "id": "57ed2627a2bd653c"
  },
  {
   "cell_type": "markdown",
   "source": [
    "### Use of the full 1000_orth to 1000_random_non_orth command"
   ],
   "metadata": {
    "collapsed": false
   },
   "id": "bf34a025e9528785"
  },
  {
   "cell_type": "code",
   "execution_count": null,
   "outputs": [],
   "source": [
    "!curategpt ontology gene_orthology -u $DATA_URL --path $DB_PATH --collection_one global_human --collection_two global_mgi --output_file_one $ORTH_OUT --output_file_two $NON_ORTH_OUT"
   ],
   "metadata": {
    "collapsed": false
   },
   "id": "a3579981a5056e22"
  },
  {
   "cell_type": "markdown",
   "source": [
    "## Quick experiments with smaller size orth and non orths from Human to Mouse"
   ],
   "metadata": {
    "collapsed": false
   },
   "id": "8343354d616fc42c"
  },
  {
   "cell_type": "code",
   "execution_count": null,
   "outputs": [],
   "source": [
    "!curategpt ontology gene_orthology -u $DATA_URL --path $DB_PATH --collection_one human_genes --collection_two mouse_genes --gene_pairs_file $QUICK_ORTH --output_file_one $QUICK_ORTH_OUT"
   ],
   "metadata": {
    "collapsed": false
   },
   "id": "34361f3307bbeb97"
  },
  {
   "cell_type": "code",
   "execution_count": null,
   "outputs": [],
   "source": [
    "!curategpt ontology gene_orthology -u $DATA_URL --path $DB_PATH --collection_one human_genes --collection_two mouse_genes --gene_pairs_file $QUICK_NON_ORTH --output_file_one $QUICK_NON_ORTH_OUT"
   ],
   "metadata": {
    "collapsed": false
   },
   "id": "18bd6c7ea2b02180"
  },
  {
   "cell_type": "markdown",
   "source": [
    "## Comparison 1000 orthologous to 1000 non_orthologous pairs"
   ],
   "metadata": {
    "collapsed": false
   },
   "id": "db8117b1b24795df"
  },
  {
   "cell_type": "code",
   "execution_count": null,
   "outputs": [],
   "source": [
    "import pandas as pd\n",
    "import plotly.graph_objects as go\n",
    "\n",
    "df1 = pd.read_csv(f'{cwd}/wrappers/knowledgegraph/orth_cosim.tsv', sep='\\t')\n",
    "df2 = pd.read_csv(f'{cwd}/wrappers/knowledgegraph/non_orth_cosim.tsv', sep='\\t')\n",
    "\n",
    "avg_original = df1['CosineSimilarity'].mean()\n",
    "avg_altered = df2['CosineSimilarity'].mean()\n",
    "num_pairs_original = len(df1)\n",
    "num_pairs_altered = len(df2)\n",
    "\n",
    "trace1 = go.Bar(x=['Average'], y=[avg_original], name='Orthologous',\n",
    "                text=[f'Number of Pairs: {num_pairs_original}'],\n",
    "                hovertemplate='Average Cosine Similarity: %{y:.3f}<br>Number of Pairs: %{text}',\n",
    "                marker=dict(color='blue'))\n",
    "\n",
    "trace2 = go.Bar(x=['Average'], y=[avg_altered], name='Non-Orthologous',\n",
    "                text=[f'Number of Pairs: {num_pairs_altered}'],\n",
    "                hovertemplate='Average Cosine Similarity: %{y:.3f}<br>Number of Pairs: %{text}',\n",
    "                marker=dict(color='red'))\n",
    "\n",
    "layout = go.Layout(\n",
    "    title='Average CoSim Orth vs non-Orth',\n",
    "    xaxis=dict(title=''),\n",
    "    yaxis=dict(title='Cosine Similarity'),\n",
    "    barmode='group'\n",
    ")\n",
    "\n",
    "fig = go.Figure(data=[trace1, trace2], layout=layout)\n",
    "\n",
    "fig.update_layout(\n",
    "    template='plotly_white',\n",
    "    font=dict(size=12),\n",
    "    legend=dict(x=0.8, y=0.95, borderwidth=1),\n",
    "    margin=dict(l=50, r=50, t=80, b=50),\n",
    "    width=400,\n",
    "    height=400\n",
    ")\n",
    "\n",
    "fig.show()"
   ],
   "metadata": {
    "collapsed": false
   },
   "id": "4fccd8f6fdf53de8"
  },
  {
   "cell_type": "markdown",
   "source": [
    "### Comparison of smaller subset"
   ],
   "metadata": {
    "collapsed": false
   },
   "id": "68a1a9fab371b14f"
  },
  {
   "cell_type": "code",
   "execution_count": null,
   "outputs": [],
   "source": [
    "f'{cwd}/wrappers/knowledgegraph/quick_orth_cosim.tsv'\n",
    "f'{cwd}/wrappers/knowledgegraph/quick_orth_cosim.tsv'\n",
    "\n",
    "import pandas as pd\n",
    "import plotly.graph_objects as go\n",
    "\n",
    "df1 = pd.read_csv(f'{cwd}/wrappers/knowledgegraph/quick_orth_cosim.tsv', sep='\\t')\n",
    "df2 = pd.read_csv(f'{cwd}/wrappers/knowledgegraph/quick_non_orth_cosim.tsv', sep='\\t')\n",
    "\n",
    "avg_original = df1['CosineSimilarity'].mean()\n",
    "avg_altered = df2['CosineSimilarity'].mean()\n",
    "num_pairs_original = len(df1)\n",
    "num_pairs_altered = len(df2)\n",
    "\n",
    "trace1 = go.Bar(x=['Average'], y=[avg_original], name='Orthologous',\n",
    "                text=[f'Number of Pairs: {num_pairs_original}'],\n",
    "                hovertemplate='Average Cosine Similarity: %{y:.3f}<br>Number of Pairs: %{text}',\n",
    "                marker=dict(color='blue'))\n",
    "\n",
    "trace2 = go.Bar(x=['Average'], y=[avg_altered], name='Non-Orthologous',\n",
    "                text=[f'Number of Pairs: {num_pairs_altered}'],\n",
    "                hovertemplate='Average Cosine Similarity: %{y:.3f}<br>Number of Pairs: %{text}',\n",
    "                marker=dict(color='red'))\n",
    "\n",
    "layout = go.Layout(\n",
    "    title='Average CoSim Orth vs non-Orth',\n",
    "    xaxis=dict(title=''),\n",
    "    yaxis=dict(title='Cosine Similarity'),\n",
    "    barmode='group'\n",
    ")\n",
    "\n",
    "fig = go.Figure(data=[trace1, trace2], layout=layout)\n",
    "\n",
    "fig.update_layout(\n",
    "    template='plotly_white',\n",
    "    font=dict(size=12),\n",
    "    legend=dict(x=0.8, y=0.95, borderwidth=1),\n",
    "    margin=dict(l=50, r=50, t=80, b=50),\n",
    "    width=400,\n",
    "    height=400\n",
    ")\n",
    "\n",
    "fig.show()"
   ],
   "metadata": {
    "collapsed": false,
    "ExecuteTime": {
     "start_time": "2024-05-02T15:44:20.642007Z"
    }
   },
   "id": "d0269a55479d99d0"
  }
 ],
 "metadata": {
  "kernelspec": {
   "display_name": "Python 3",
   "language": "python",
   "name": "python3"
  },
  "language_info": {
   "codemirror_mode": {
    "name": "ipython",
    "version": 2
   },
   "file_extension": ".py",
   "mimetype": "text/x-python",
   "name": "python",
   "nbconvert_exporter": "python",
   "pygments_lexer": "ipython2",
   "version": "2.7.6"
  }
 },
 "nbformat": 4,
 "nbformat_minor": 5
}

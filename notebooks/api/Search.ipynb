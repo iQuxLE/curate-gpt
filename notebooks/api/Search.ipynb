{
 "cells": [
  {
   "cell_type": "markdown",
   "source": [
    "# Search and Retrieval\n",
    "\n",
    "## Setup"
   ],
   "metadata": {
    "collapsed": false
   },
   "id": "92c89f26495f6bea"
  },
  {
   "cell_type": "code",
   "execution_count": 1,
   "source": [
    "from curate_gpt.store import get_store\n",
    "\n",
    "# assumes pre-populated\n",
    "store = get_store(\"chromadb\", \"../../db\")"
   ],
   "metadata": {
    "collapsed": false,
    "ExecuteTime": {
     "end_time": "2023-11-01T22:15:38.167385Z",
     "start_time": "2023-11-01T22:15:36.700702Z"
    }
   },
   "id": "34a6e5f1b12dcf1b",
   "outputs": []
  },
  {
   "cell_type": "markdown",
   "source": [
    "## Similarity Search\n",
    "\n",
    "Searches based on embedding of text in query against vector database"
   ],
   "metadata": {
    "collapsed": false
   },
   "id": "263db03dffe56b7c"
  },
  {
   "cell_type": "code",
   "execution_count": 2,
   "source": [
    "for obj, distance, info in store.search(\"forebrain neurons\", collection=\"ont_cl\"):\n",
    "    print(f\"* {obj['id']}\\n    - Distance: {distance} Text: {info['document'][0:20]}...\")"
   ],
   "metadata": {
    "collapsed": false,
    "ExecuteTime": {
     "end_time": "2023-11-01T01:28:52.532137Z",
     "start_time": "2023-11-01T01:28:31.259378Z"
    }
   },
   "id": "93c49c45d320bace",
   "outputs": []
  },
  {
   "cell_type": "markdown",
   "source": [
    "## Retrieval\n",
    "\n",
    "Boolean queries"
   ],
   "metadata": {
    "collapsed": false
   },
   "id": "85d6cb75dc12cad5"
  },
  {
   "cell_type": "code",
   "execution_count": 35,
   "source": [
    "objs = list(store.find({\"id\": \"NeuronOfTheForebrain\"}, collection=\"ont_cl\"))\n",
    "objs"
   ],
   "metadata": {
    "collapsed": false,
    "ExecuteTime": {
     "end_time": "2023-11-01T22:08:52.190909Z",
     "start_time": "2023-11-01T22:08:37.033852Z"
    }
   },
   "id": "870f1ac824a65fd",
   "outputs": []
  },
  {
   "cell_type": "markdown",
   "source": [
    "## Including Vector Embeddings in results\n",
    "\n"
   ],
   "metadata": {
    "collapsed": false
   },
   "id": "4b3c5f58c5c759"
  },
  {
   "cell_type": "code",
   "execution_count": 14,
   "source": [
    "objs = list(store.find({\"id\": \"NeuronOfTheForebrain\"}, collection=\"ont_cl\", include=[\"metadatas\", \"documents\", \"embeddings\"]))\n",
    "_, __, info = objs[0]\n",
    "info[\"_embeddings\"][0:20]"
   ],
   "metadata": {
    "collapsed": false,
    "ExecuteTime": {
     "end_time": "2023-11-01T01:51:33.493805Z",
     "start_time": "2023-11-01T01:51:20.645324Z"
    }
   },
   "id": "de1ffbbfd5dfa589",
   "outputs": []
  },
  {
   "cell_type": "markdown",
   "source": [
    "## Lookup by ID\n",
    "\n",
    "Assumes that there is an identifier column"
   ],
   "metadata": {
    "collapsed": false
   },
   "id": "9f9f17d59b264a03"
  },
  {
   "cell_type": "code",
   "execution_count": 6,
   "source": [
    "store.lookup(\"NeuronOfTheForebrain\", collection=\"ont_cl\")"
   ],
   "metadata": {
    "collapsed": false,
    "ExecuteTime": {
     "start_time": "2023-11-01T01:46:11.928766Z"
    }
   },
   "id": "5ed3ebf05483057f",
   "outputs": []
  },
  {
   "cell_type": "markdown",
   "source": [
    "## All by All"
   ],
   "metadata": {
    "collapsed": false
   },
   "id": "b76aca0c5e74df05"
  },
  {
   "cell_type": "code",
   "execution_count": 15,
   "source": [
    "objs = list(store.find({}, collection=\"ont_cl\", include=[\"metadatas\", \"documents\", \"embeddings\"]))\n",
    "len(objs)"
   ],
   "metadata": {
    "collapsed": false,
    "ExecuteTime": {
     "end_time": "2023-11-01T17:52:00.627969Z",
     "start_time": "2023-11-01T17:51:59.264344Z"
    }
   },
   "id": "ef188270526e7f5d",
   "outputs": []
  },
  {
   "cell_type": "code",
   "execution_count": 32,
   "source": [
    "import numpy as np\n",
    "\n",
    "def compute_cosine_similarity(list1, list2):\n",
    "    # Convert lists to numpy arrays\n",
    "    matrix1 = np.array(list1)\n",
    "    matrix2 = np.array(list2)\n",
    "    \n",
    "    # Normalize the vectors in both matrices\n",
    "    matrix1_norm = matrix1 / np.linalg.norm(matrix1, axis=1)[:, np.newaxis]\n",
    "    matrix2_norm = matrix2 / np.linalg.norm(matrix2, axis=1)[:, np.newaxis]\n",
    "    \n",
    "    # Compute dot products (resulting in cosine similarity values)\n",
    "    cosine_similarity_matrix = np.dot(matrix1_norm, matrix2_norm.T)\n",
    "    \n",
    "    return cosine_similarity_matrix\n",
    "\n",
    "# Sample lists of vectors\n",
    "list1 = [[1, 2, 3], [4, 5, 6], [7, 8, 9]]\n",
    "list2 = [[7, 8, 9], [1, 0, 0], [0, 1, 0], [0, 0, 1]]\n",
    "\n",
    "cosine_similarity_matrix = compute_cosine_similarity(list1, list2)\n",
    "cosine_similarity_matrix\n"
   ],
   "metadata": {
    "collapsed": false,
    "ExecuteTime": {
     "end_time": "2023-11-01T18:51:36.991624Z",
     "start_time": "2023-11-01T18:51:36.979010Z"
    }
   },
   "id": "c6c33db257400463",
   "outputs": []
  },
  {
   "cell_type": "code",
   "execution_count": 33,
   "source": [
    "cosine_similarity_matrix[2][0]"
   ],
   "metadata": {
    "collapsed": false,
    "ExecuteTime": {
     "end_time": "2023-11-01T18:52:16.268556Z",
     "start_time": "2023-11-01T18:52:16.257850Z"
    }
   },
   "id": "a1db3d635fbe297c",
   "outputs": []
  },
  {
   "cell_type": "code",
   "execution_count": 17,
   "source": [
    "vectors = [info[\"_embeddings\"] for _, __, info in objs]"
   ],
   "metadata": {
    "collapsed": false,
    "ExecuteTime": {
     "end_time": "2023-11-01T17:52:58.293959Z",
     "start_time": "2023-11-01T17:52:58.289563Z"
    }
   },
   "id": "fdbddd987a82736e",
   "outputs": []
  },
  {
   "cell_type": "code",
   "execution_count": 18,
   "source": [
    "cosine_similarity_matrix = compute_cosine_similarity(vectors, vectors)"
   ],
   "metadata": {
    "collapsed": false,
    "ExecuteTime": {
     "end_time": "2023-11-01T17:53:08.245873Z",
     "start_time": "2023-11-01T17:53:04.513805Z"
    }
   },
   "id": "f0a83c7047bb5c83",
   "outputs": []
  },
  {
   "cell_type": "code",
   "execution_count": 19,
   "source": [
    "len(cosine_similarity_matrix)"
   ],
   "metadata": {
    "collapsed": false,
    "ExecuteTime": {
     "end_time": "2023-11-01T17:53:43.006858Z",
     "start_time": "2023-11-01T17:53:42.991047Z"
    }
   },
   "id": "fdfbdcf145c95f72",
   "outputs": []
  },
  {
   "cell_type": "code",
   "execution_count": 20,
   "source": [
    "def top_matches(cosine_similarity_matrix):\n",
    "    # Find the index of the maximum value in each row\n",
    "    top_match_indices = np.argmax(cosine_similarity_matrix, axis=1)\n",
    "    \n",
    "    # Find the maximum similarity value in each row\n",
    "    top_match_values = np.amax(cosine_similarity_matrix, axis=1)\n",
    "    \n",
    "    return top_match_indices, top_match_values"
   ],
   "metadata": {
    "collapsed": false,
    "ExecuteTime": {
     "end_time": "2023-11-01T17:54:16.449238Z",
     "start_time": "2023-11-01T17:54:16.440079Z"
    }
   },
   "id": "134564def5c79edf",
   "outputs": []
  },
  {
   "cell_type": "code",
   "execution_count": 34,
   "source": [
    "list1 = [[0, 0, 1], [0, 1, 0], [1, 0, 0]]\n",
    "list2 = [[0.5, 0.5, 0.5], [1, 0, 0], [0, 1, 0], [0, 0, 1]]\n",
    "\n",
    "# Re-compute the cosine similarity matrix\n",
    "test_matrix = compute_cosine_similarity(list1, list2)\n",
    "\n",
    "# Find the top matches\n",
    "top_indices, top_values = top_matches(test_matrix)\n",
    "top_indices, top_values"
   ],
   "metadata": {
    "collapsed": false,
    "ExecuteTime": {
     "end_time": "2023-11-01T18:53:57.370783Z",
     "start_time": "2023-11-01T18:53:57.355257Z"
    }
   },
   "id": "a14fab07201ff39a",
   "outputs": []
  },
  {
   "cell_type": "code",
   "execution_count": 22,
   "source": [
    "tm_ix, tm_vals = top_matches(cosine_similarity_matrix)\n",
    "len(tm_ix)"
   ],
   "metadata": {
    "collapsed": false,
    "ExecuteTime": {
     "end_time": "2023-11-01T17:54:58.472236Z",
     "start_time": "2023-11-01T17:54:58.352575Z"
    }
   },
   "id": "2ec1f058abf4c10a",
   "outputs": []
  },
  {
   "cell_type": "code",
   "execution_count": 24,
   "source": [
    "tm_ix[0:5]"
   ],
   "metadata": {
    "collapsed": false,
    "ExecuteTime": {
     "end_time": "2023-11-01T17:55:27.519701Z",
     "start_time": "2023-11-01T17:55:27.516424Z"
    }
   },
   "id": "81de8cf228e86b8a",
   "outputs": []
  },
  {
   "cell_type": "code",
   "execution_count": 25,
   "source": [
    "tm_vals[0:5]"
   ],
   "metadata": {
    "collapsed": false,
    "ExecuteTime": {
     "end_time": "2023-11-01T17:55:35.686424Z",
     "start_time": "2023-11-01T17:55:35.670320Z"
    }
   },
   "id": "879f230c7185b140",
   "outputs": []
  },
  {
   "cell_type": "markdown",
   "source": [
    "## Latency Check"
   ],
   "metadata": {
    "collapsed": false
   },
   "id": "d45757bc0fe1ec85"
  },
  {
   "cell_type": "code",
   "execution_count": 74,
   "source": [
    "store = get_store(\"chromadb\", \"../../db\")\n",
    "client = store.client"
   ],
   "metadata": {
    "collapsed": false,
    "ExecuteTime": {
     "end_time": "2023-11-01T22:58:36.369774Z",
     "start_time": "2023-11-01T22:58:36.364663Z"
    }
   },
   "id": "688a58b40b01a1c3",
   "outputs": []
  },
  {
   "cell_type": "code",
   "execution_count": 75,
   "source": [
    "cxn = client.get_collection(\"ont_ecosim\")"
   ],
   "metadata": {
    "collapsed": false,
    "ExecuteTime": {
     "end_time": "2023-11-01T22:58:36.836109Z",
     "start_time": "2023-11-01T22:58:36.829372Z"
    }
   },
   "id": "a565c263b827dc42",
   "outputs": []
  },
  {
   "cell_type": "code",
   "execution_count": 76,
   "source": [
    "x = cxn.get(where={}, include=['metadatas', 'documents', 'embeddings'])"
   ],
   "metadata": {
    "collapsed": false,
    "ExecuteTime": {
     "end_time": "2023-11-01T22:58:37.507404Z",
     "start_time": "2023-11-01T22:58:37.182201Z"
    }
   },
   "id": "8dcc408c65f337ca",
   "outputs": []
  },
  {
   "cell_type": "code",
   "execution_count": 77,
   "source": [
    "len(x[\"embeddings\"])"
   ],
   "metadata": {
    "collapsed": false,
    "ExecuteTime": {
     "end_time": "2023-11-01T22:58:37.512084Z",
     "start_time": "2023-11-01T22:58:37.507858Z"
    }
   },
   "id": "ffed999ca144b672",
   "outputs": []
  },
  {
   "cell_type": "code",
   "execution_count": 78,
   "source": [
    "len(x[\"embeddings\"][0])"
   ],
   "metadata": {
    "collapsed": false,
    "ExecuteTime": {
     "end_time": "2023-11-01T22:58:37.920731Z",
     "start_time": "2023-11-01T22:58:37.914696Z"
    }
   },
   "id": "60bc6fcd0ad6a731",
   "outputs": []
  },
  {
   "cell_type": "code",
   "execution_count": 69,
   "source": [
    "x = cxn.get(where={}, include=['metadatas', 'documents', 'embeddings'])"
   ],
   "metadata": {
    "collapsed": false,
    "ExecuteTime": {
     "end_time": "2023-11-01T22:53:12.776849Z",
     "start_time": "2023-11-01T22:53:12.766527Z"
    }
   },
   "id": "541174137fa306ac",
   "outputs": []
  },
  {
   "metadata": {},
   "cell_type": "markdown",
   "source": "## DuckDBAdapter",
   "id": "30af4b643c4640ab"
  },
  {
   "metadata": {
    "ExecuteTime": {
     "end_time": "2024-08-14T17:18:07.362290Z",
     "start_time": "2024-08-14T17:18:07.348335Z"
    }
   },
   "cell_type": "code",
   "source": [
    "from curate_gpt.store import get_store\n",
    "duck_store = get_store(\"duckdb\", \"./duckdb_jn.db\")"
   ],
   "id": "1c2c32a217076ff9",
   "outputs": [
    {
     "ename": "ValueError",
     "evalue": "Unknown view duckdb_vss, not found in [<class 'curate_gpt.store.chromadb_adapter.ChromaDBAdapter'>, <class 'curate_gpt.store.duckdb_adapter.DuckDBAdapter'>, <class 'curate_gpt.store.in_memory_adapter.InMemoryAdapter'>]",
     "output_type": "error",
     "traceback": [
      "\u001B[0;31m---------------------------------------------------------------------------\u001B[0m",
      "\u001B[0;31mValueError\u001B[0m                                Traceback (most recent call last)",
      "Cell \u001B[0;32mIn[7], line 2\u001B[0m\n\u001B[1;32m      1\u001B[0m \u001B[38;5;28;01mfrom\u001B[39;00m \u001B[38;5;21;01mcurate_gpt\u001B[39;00m\u001B[38;5;21;01m.\u001B[39;00m\u001B[38;5;21;01mstore\u001B[39;00m \u001B[38;5;28;01mimport\u001B[39;00m get_store\n\u001B[0;32m----> 2\u001B[0m duck_store \u001B[38;5;241m=\u001B[39m \u001B[43mget_store\u001B[49m\u001B[43m(\u001B[49m\u001B[38;5;124;43m\"\u001B[39;49m\u001B[38;5;124;43mduckdb_vss\u001B[39;49m\u001B[38;5;124;43m\"\u001B[39;49m\u001B[43m,\u001B[49m\u001B[43m \u001B[49m\u001B[38;5;124;43m\"\u001B[39;49m\u001B[38;5;124;43m./duckdb3.db\u001B[39;49m\u001B[38;5;124;43m\"\u001B[39;49m\u001B[43m)\u001B[49m\n",
      "File \u001B[0;32m~/clone_curate_gpt/curate-gpt/src/curate_gpt/store/__init__.py:51\u001B[0m, in \u001B[0;36mget_store\u001B[0;34m(name, *args, **kwargs)\u001B[0m\n\u001B[1;32m     49\u001B[0m     \u001B[38;5;28;01mif\u001B[39;00m c\u001B[38;5;241m.\u001B[39mname \u001B[38;5;241m==\u001B[39m name:\n\u001B[1;32m     50\u001B[0m         \u001B[38;5;28;01mreturn\u001B[39;00m c(\u001B[38;5;241m*\u001B[39margs, \u001B[38;5;241m*\u001B[39m\u001B[38;5;241m*\u001B[39mkwargs)\n\u001B[0;32m---> 51\u001B[0m \u001B[38;5;28;01mraise\u001B[39;00m \u001B[38;5;167;01mValueError\u001B[39;00m(\u001B[38;5;124mf\u001B[39m\u001B[38;5;124m\"\u001B[39m\u001B[38;5;124mUnknown view \u001B[39m\u001B[38;5;132;01m{\u001B[39;00mname\u001B[38;5;132;01m}\u001B[39;00m\u001B[38;5;124m, not found in \u001B[39m\u001B[38;5;132;01m{\u001B[39;00mget_all_subclasses(DBAdapter)\u001B[38;5;132;01m}\u001B[39;00m\u001B[38;5;124m\"\u001B[39m)\n",
      "\u001B[0;31mValueError\u001B[0m: Unknown view duckdb_vss, not found in [<class 'curate_gpt.store.chromadb_adapter.ChromaDBAdapter'>, <class 'curate_gpt.store.duckdb_adapter.DuckDBAdapter'>, <class 'curate_gpt.store.in_memory_adapter.InMemoryAdapter'>]"
     ]
    }
   ],
   "execution_count": 7
  },
  {
   "metadata": {
    "ExecuteTime": {
     "end_time": "2024-08-14T17:18:08.177331Z",
     "start_time": "2024-08-14T17:18:08.165062Z"
    }
   },
   "cell_type": "code",
   "source": "duck_store.list_collection_names()",
   "id": "27f015bd1faddc87",
   "outputs": [
    {
     "ename": "NameError",
     "evalue": "name 'duck_store' is not defined",
     "output_type": "error",
     "traceback": [
      "\u001B[0;31m---------------------------------------------------------------------------\u001B[0m",
      "\u001B[0;31mNameError\u001B[0m                                 Traceback (most recent call last)",
      "Cell \u001B[0;32mIn[8], line 1\u001B[0m\n\u001B[0;32m----> 1\u001B[0m \u001B[43mduck_store\u001B[49m\u001B[38;5;241m.\u001B[39mlist_collection_names()\n",
      "\u001B[0;31mNameError\u001B[0m: name 'duck_store' is not defined"
     ]
    }
   ],
   "execution_count": 8
  },
  {
   "metadata": {
    "ExecuteTime": {
     "end_time": "2024-08-14T17:14:58.322132Z",
     "start_time": "2024-08-14T17:14:58.319397Z"
    }
   },
   "cell_type": "code",
   "source": [
    "obj_to_insert = {\n",
    "    'id': '10MinuteAPGARScoreOf0',\n",
    "    'label': '10-minute APGAR score of 0',\n",
    "    'definition': None,\n",
    "    'aliases': None,\n",
    "    'relationships': [{'predicate': 'subClassOf', 'target': 'Low10MinuteAPGARScore'}],\n",
    "    'logical_definition': None,\n",
    "    'original_id': 'HP:0033468'\n",
    "}"
   ],
   "id": "c38526e27034c3ba",
   "outputs": [],
   "execution_count": 3
  },
  {
   "metadata": {
    "ExecuteTime": {
     "end_time": "2024-08-14T17:14:59.250420Z",
     "start_time": "2024-08-14T17:14:59.235137Z"
    }
   },
   "cell_type": "code",
   "source": [
    "duck_store.insert([obj_to_insert], collection=\"test_collection\")\n",
    "duck_store.insert([{\"id\": \"test7\", \"label\": \"This is no test\"}])\n",
    "duck_store.insert([{\"id\": \"test2\", \"label\": \"This is no test\"}])\n",
    "duck_store.insert([{\"id\": \"test3\", \"label\": \"This is a test\"}])\n",
    "duck_store.insert([{\"id\": \"test4\", \"label\": \"This is a test\"}])\n",
    "duck_store.insert([{\"id\": \"test5\", \"label\": \"This is no test\"}])\n",
    "duck_store.insert([{\"id\": \"test6\", \"label\": \"This is no test\"}])"
   ],
   "id": "8b1efcb29b0afc42",
   "outputs": [
    {
     "ename": "NameError",
     "evalue": "name 'duck_store' is not defined",
     "output_type": "error",
     "traceback": [
      "\u001B[0;31m---------------------------------------------------------------------------\u001B[0m",
      "\u001B[0;31mNameError\u001B[0m                                 Traceback (most recent call last)",
      "Cell \u001B[0;32mIn[4], line 1\u001B[0m\n\u001B[0;32m----> 1\u001B[0m \u001B[43mduck_store\u001B[49m\u001B[38;5;241m.\u001B[39minsert([obj_to_insert], collection\u001B[38;5;241m=\u001B[39m\u001B[38;5;124m\"\u001B[39m\u001B[38;5;124mtest_collection\u001B[39m\u001B[38;5;124m\"\u001B[39m)\n\u001B[1;32m      2\u001B[0m duck_store\u001B[38;5;241m.\u001B[39minsert([{\u001B[38;5;124m\"\u001B[39m\u001B[38;5;124mid\u001B[39m\u001B[38;5;124m\"\u001B[39m: \u001B[38;5;124m\"\u001B[39m\u001B[38;5;124mtest7\u001B[39m\u001B[38;5;124m\"\u001B[39m, \u001B[38;5;124m\"\u001B[39m\u001B[38;5;124mlabel\u001B[39m\u001B[38;5;124m\"\u001B[39m: \u001B[38;5;124m\"\u001B[39m\u001B[38;5;124mThis is no test\u001B[39m\u001B[38;5;124m\"\u001B[39m}])\n\u001B[1;32m      3\u001B[0m duck_store\u001B[38;5;241m.\u001B[39minsert([{\u001B[38;5;124m\"\u001B[39m\u001B[38;5;124mid\u001B[39m\u001B[38;5;124m\"\u001B[39m: \u001B[38;5;124m\"\u001B[39m\u001B[38;5;124mtest2\u001B[39m\u001B[38;5;124m\"\u001B[39m, \u001B[38;5;124m\"\u001B[39m\u001B[38;5;124mlabel\u001B[39m\u001B[38;5;124m\"\u001B[39m: \u001B[38;5;124m\"\u001B[39m\u001B[38;5;124mThis is no test\u001B[39m\u001B[38;5;124m\"\u001B[39m}])\n",
      "\u001B[0;31mNameError\u001B[0m: name 'duck_store' is not defined"
     ]
    }
   ],
   "execution_count": 4
  },
  {
   "metadata": {
    "ExecuteTime": {
     "end_time": "2024-08-14T17:15:50.370975Z",
     "start_time": "2024-08-14T17:15:50.367966Z"
    }
   },
   "cell_type": "code",
   "source": [
    "for obj, distance, info in duck_store.matches({\"id\":\"test3\"}, collection=\"test_collection\")\n",
    "    print(f\"* {obj['id']}\\n    - Distance: {distance} Text: {info['document'][0:20]}...\")"
   ],
   "id": "541637c4d4075a0e",
   "outputs": [
    {
     "ename": "SyntaxError",
     "evalue": "expected ':' (2451211334.py, line 2)",
     "output_type": "error",
     "traceback": [
      "\u001B[0;36m  Cell \u001B[0;32mIn[5], line 2\u001B[0;36m\u001B[0m\n\u001B[0;31m    for obj, distance, info in duck_store.matches({\"id\":\"test3\"}, collection=\"test_collection\")\u001B[0m\n\u001B[0m                                                                                               ^\u001B[0m\n\u001B[0;31mSyntaxError\u001B[0m\u001B[0;31m:\u001B[0m expected ':'\n"
     ]
    }
   ],
   "execution_count": 5
  },
  {
   "metadata": {
    "ExecuteTime": {
     "end_time": "2024-07-06T10:58:52.751243Z",
     "start_time": "2024-07-06T10:58:52.746861Z"
    }
   },
   "cell_type": "code",
   "source": "duck_store.lookup(\"test1\", collection=\"test_collection\")",
   "id": "5a69eb52ae83714a",
   "execution_count": 8,
   "outputs": []
  },
  {
   "metadata": {
    "ExecuteTime": {
     "end_time": "2024-07-06T10:58:53.038171Z",
     "start_time": "2024-07-06T10:58:53.031825Z"
    }
   },
   "cell_type": "code",
   "source": [
    "objs_find = list(duck_store.find({\"id\": \"test2\"}, collection=\"test_collection\"))\n",
    "_, __, info = objs_find[0]\n",
    "info[\"_embeddings\"][0:20]"
   ],
   "id": "799035be528d628e",
   "execution_count": 9,
   "outputs": []
  },
  {
   "metadata": {
    "ExecuteTime": {
     "end_time": "2024-07-06T10:58:53.899192Z",
     "start_time": "2024-07-06T10:58:53.883855Z"
    }
   },
   "cell_type": "code",
   "source": [
    "x = list(duck_store.find({}, collection=\"test_collection\"))\n",
    "x"
   ],
   "id": "dbbe2a6794cb3fe8",
   "execution_count": 10,
   "outputs": []
  },
  {
   "metadata": {
    "ExecuteTime": {
     "end_time": "2024-08-14T17:24:34.622172Z",
     "start_time": "2024-08-14T17:24:34.607511Z"
    }
   },
   "cell_type": "code",
   "source": [
    "import json\n",
    "for o, d, m in duck_store.search(\"test\", collection=\"test_collection\"):\n",
    "    print(f\"* {json.dumps(o)}\\n    - Distance: {d}\")"
   ],
   "id": "6068833dd3cdab8d",
   "outputs": [
    {
     "ename": "NameError",
     "evalue": "name 'duck_store' is not defined",
     "output_type": "error",
     "traceback": [
      "\u001B[0;31m---------------------------------------------------------------------------\u001B[0m",
      "\u001B[0;31mNameError\u001B[0m                                 Traceback (most recent call last)",
      "Cell \u001B[0;32mIn[9], line 1\u001B[0m\n\u001B[0;32m----> 1\u001B[0m \u001B[38;5;28;01mfor\u001B[39;00m o, d, m \u001B[38;5;129;01min\u001B[39;00m \u001B[43mduck_store\u001B[49m\u001B[38;5;241m.\u001B[39msearch(\u001B[38;5;124m\"\u001B[39m\u001B[38;5;124mtest\u001B[39m\u001B[38;5;124m\"\u001B[39m, collection\u001B[38;5;241m=\u001B[39m\u001B[38;5;124m\"\u001B[39m\u001B[38;5;124mtest_collection\u001B[39m\u001B[38;5;124m\"\u001B[39m):\n\u001B[1;32m      2\u001B[0m     \u001B[38;5;28mprint\u001B[39m(\u001B[38;5;124mf\u001B[39m\u001B[38;5;124m\"\u001B[39m\u001B[38;5;124m* \u001B[39m\u001B[38;5;132;01m{\u001B[39;00mjson\u001B[38;5;241m.\u001B[39mdumps(o)\u001B[38;5;132;01m}\u001B[39;00m\u001B[38;5;130;01m\\n\u001B[39;00m\u001B[38;5;124m    - Distance: \u001B[39m\u001B[38;5;132;01m{\u001B[39;00md\u001B[38;5;132;01m}\u001B[39;00m\u001B[38;5;124m Text: \u001B[39m\u001B[38;5;132;01m{\u001B[39;00mm[\u001B[38;5;124m'\u001B[39m\u001B[38;5;124mdocument\u001B[39m\u001B[38;5;124m'\u001B[39m][\u001B[38;5;241m0\u001B[39m:\u001B[38;5;241m20\u001B[39m]\u001B[38;5;132;01m}\u001B[39;00m\u001B[38;5;124m...\u001B[39m\u001B[38;5;124m\"\u001B[39m)\n",
      "\u001B[0;31mNameError\u001B[0m: name 'duck_store' is not defined"
     ]
    }
   ],
   "execution_count": 9
  }
 ],
 "metadata": {
  "kernelspec": {
   "display_name": "Python 3",
   "language": "python",
   "name": "python3"
  },
  "language_info": {
   "codemirror_mode": {
    "name": "ipython",
    "version": 2
   },
   "file_extension": ".py",
   "mimetype": "text/x-python",
   "name": "python",
   "nbconvert_exporter": "python",
   "pygments_lexer": "ipython2",
   "version": "2.7.6"
  }
 },
 "nbformat": 4,
 "nbformat_minor": 5
}
